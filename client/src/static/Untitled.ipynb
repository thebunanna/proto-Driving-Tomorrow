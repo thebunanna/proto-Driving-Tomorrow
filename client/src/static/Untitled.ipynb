{
 "cells": [
  {
   "cell_type": "code",
   "execution_count": 1,
   "metadata": {},
   "outputs": [],
   "source": [
    "import json\n",
    "import os\n",
    "import pprint"
   ]
  },
  {
   "cell_type": "code",
   "execution_count": 4,
   "metadata": {},
   "outputs": [
    {
     "name": "stdout",
     "output_type": "stream",
     "text": [
      "C:\\Users\\Daniel\\Documents\\GitHub\\proto-Driving-Tomorrow\\proto\\client\\src\\static\n",
      "C:\\Users\\Daniel\\Documents\\GitHub\\proto-Driving-Tomorrow\\proto\\client\\src\\gallery\n",
      "['IMG_1559.JPG', 'IMG_1560.JPG', 'IMG_1562.JPG', 'IMG_1564.JPG', 'IMG_1570.JPG', 'IMG_1574.JPG', 'IMG_1575.JPG', 'IMG_1582.JPG', 'IMG_1586.JPG', 'IMG_1587.JPG', 'IMG_1589.JPG', 'IMG_1594.JPG', 'IMG_1596.JPG', 'IMG_1600.JPG', 'IMG_1604.JPG', 'IMG_1606.JPG', 'IMG_1608.JPG', 'IMG_1613.JPG', 'IMG_1614.JPG', 'IMG_1616.JPG', 'IMG_1619.JPG', 'IMG_1620.JPG', 'IMG_1623.JPG', 'IMG_1625.JPG', 'IMG_1627.JPG', 'IMG_1628.JPG', 'IMG_1630.JPG', 'IMG_1632.JPG', 'IMG_1633.JPG', 'IMG_1636.JPG', 'IMG_1637.JPG', 'IMG_1639.JPG']\n",
      "{0: {0: {'text': '00', 'type': 'ExecHome'},\n",
      "     1: {'text': '01', 'type': 'Execs'},\n",
      "     2: {'text': '02', 'type': 'Execs'},\n",
      "     3: {'text': '03', 'type': 'Execs'},\n",
      "     4: {'text': '04', 'type': 'Execs'}},\n",
      " 1: {0: {'text': '10', 'type': 'GalleryHome'},\n",
      "     1: {'src': 'IMG_1559.JPG', 'text': '11', 'type': 'Gallery'},\n",
      "     2: {'src': 'IMG_1560.JPG', 'text': '12', 'type': 'Gallery'},\n",
      "     3: {'src': 'IMG_1562.JPG', 'text': '13', 'type': 'Gallery'},\n",
      "     4: {'src': 'IMG_1564.JPG', 'text': '14', 'type': 'Gallery'},\n",
      "     5: {'src': 'IMG_1570.JPG', 'text': '15', 'type': 'Gallery'},\n",
      "     6: {'src': 'IMG_1574.JPG', 'text': '16', 'type': 'Gallery'},\n",
      "     7: {'src': 'IMG_1575.JPG', 'text': '17', 'type': 'Gallery'},\n",
      "     8: {'src': 'IMG_1582.JPG', 'text': '18', 'type': 'Gallery'},\n",
      "     9: {'src': 'IMG_1586.JPG', 'text': '19', 'type': 'Gallery'},\n",
      "     10: {'src': 'IMG_1587.JPG', 'text': '110', 'type': 'Gallery'},\n",
      "     11: {'src': 'IMG_1589.JPG', 'text': '111', 'type': 'Gallery'},\n",
      "     12: {'src': 'IMG_1594.JPG', 'text': '112', 'type': 'Gallery'},\n",
      "     13: {'src': 'IMG_1596.JPG', 'text': '113', 'type': 'Gallery'},\n",
      "     14: {'src': 'IMG_1600.JPG', 'text': '114', 'type': 'Gallery'},\n",
      "     15: {'src': 'IMG_1604.JPG', 'text': '115', 'type': 'Gallery'},\n",
      "     16: {'src': 'IMG_1606.JPG', 'text': '116', 'type': 'Gallery'},\n",
      "     17: {'src': 'IMG_1608.JPG', 'text': '117', 'type': 'Gallery'},\n",
      "     18: {'src': 'IMG_1613.JPG', 'text': '118', 'type': 'Gallery'},\n",
      "     19: {'src': 'IMG_1614.JPG', 'text': '119', 'type': 'Gallery'},\n",
      "     20: {'src': 'IMG_1616.JPG', 'text': '120', 'type': 'Gallery'},\n",
      "     21: {'src': 'IMG_1619.JPG', 'text': '121', 'type': 'Gallery'},\n",
      "     22: {'src': 'IMG_1620.JPG', 'text': '122', 'type': 'Gallery'},\n",
      "     23: {'src': 'IMG_1623.JPG', 'text': '123', 'type': 'Gallery'},\n",
      "     24: {'src': 'IMG_1625.JPG', 'text': '124', 'type': 'Gallery'},\n",
      "     25: {'src': 'IMG_1627.JPG', 'text': '125', 'type': 'Gallery'},\n",
      "     26: {'src': 'IMG_1628.JPG', 'text': '126', 'type': 'Gallery'},\n",
      "     27: {'src': 'IMG_1630.JPG', 'text': '127', 'type': 'Gallery'},\n",
      "     28: {'src': 'IMG_1632.JPG', 'text': '128', 'type': 'Gallery'},\n",
      "     29: {'src': 'IMG_1633.JPG', 'text': '129', 'type': 'Gallery'},\n",
      "     30: {'src': 'IMG_1636.JPG', 'text': '130', 'type': 'Gallery'},\n",
      "     31: {'src': 'IMG_1637.JPG', 'text': '131', 'type': 'Gallery'},\n",
      "     32: {'src': 'IMG_1639.JPG', 'text': '132', 'type': 'Gallery'}},\n",
      " 2: {0: {'text': '20', 'type': 'InfoHome'}},\n",
      " 3: {0: {'text': '30', 'type': 'OtherHome'}}}\n"
     ]
    }
   ],
   "source": [
    "a = {}\n",
    "b = ['Execs', 'Gallery','Info','Other']\n",
    "print (os.getcwd())\n",
    "\n",
    "os.chdir('../gallery/')\n",
    "print (os.getcwd())\n",
    "\n",
    "picTypes = ['svg','png','jpg','jpeg', 'JPG']\n",
    "pics = [x for x in os.listdir() if any (x.split('.')[1] == y for y in picTypes)]\n",
    "print (pics)\n",
    "c = [4, len(pics), 0,0]\n",
    "\n",
    "for i in range (0,4):\n",
    "    a[i] = {}\n",
    "    for j in range (c[i]):\n",
    "        a[i][j+1] = {'text':str(i) + str(j+1), 'type':b[i]}\n",
    "        if (i == 1):\n",
    "            a[i][j+1]['src'] = pics[j]\n",
    "a[0][0] = {'text':'00', 'type':'ExecHome'}\n",
    "a[1][0] = {'text':'10', 'type':'GalleryHome'}\n",
    "a[2][0] = {'text':'20', 'type':'InfoHome'}\n",
    "a[3][0] = {'text':'30', 'type':'OtherHome'}\n",
    "pprint.pprint(a)\n",
    "os.chdir('../static/')\n",
    "with open('data.json', 'w') as file:\n",
    "    json.dump(a, file)\n",
    "    pass"
   ]
  },
  {
   "cell_type": "code",
   "execution_count": 8,
   "metadata": {},
   "outputs": [
    {
     "data": {
      "text/plain": [
       "['arrow.png', 'arrow.svg', 'background.jpg']"
      ]
     },
     "execution_count": 8,
     "metadata": {},
     "output_type": "execute_result"
    }
   ],
   "source": []
  },
  {
   "cell_type": "code",
   "execution_count": 7,
   "metadata": {},
   "outputs": [
    {
     "data": {
      "text/plain": [
       "'C:\\\\Users\\\\Daniel\\\\Documents\\\\GitHub\\\\proto-Driving-Tomorrow\\\\proto\\\\client\\\\src\\\\photos'"
      ]
     },
     "execution_count": 7,
     "metadata": {},
     "output_type": "execute_result"
    }
   ],
   "source": [
    "os.getcwd()"
   ]
  },
  {
   "cell_type": "code",
   "execution_count": null,
   "metadata": {},
   "outputs": [],
   "source": []
  }
 ],
 "metadata": {
  "kernelspec": {
   "display_name": "Python 3",
   "language": "python",
   "name": "python3"
  },
  "language_info": {
   "codemirror_mode": {
    "name": "ipython",
    "version": 3
   },
   "file_extension": ".py",
   "mimetype": "text/x-python",
   "name": "python",
   "nbconvert_exporter": "python",
   "pygments_lexer": "ipython3",
   "version": "3.6.5"
  }
 },
 "nbformat": 4,
 "nbformat_minor": 2
}
