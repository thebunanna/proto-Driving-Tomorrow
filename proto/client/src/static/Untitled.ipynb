{
 "cells": [
  {
   "cell_type": "code",
   "execution_count": 14,
   "metadata": {},
   "outputs": [],
   "source": [
    "import json\n",
    "import os\n",
    "import pprint"
   ]
  },
  {
   "cell_type": "code",
   "execution_count": 28,
   "metadata": {},
   "outputs": [
    {
     "name": "stdout",
     "output_type": "stream",
     "text": [
      "C:\\Users\\Daniel\\Documents\\GitHub\\proto-Driving-Tomorrow\\proto\\client\\src\\static\n",
      "['arrow.png', 'arrow.svg', 'background.jpg']\n",
      "{0: {0: {'text': '00', 'type': 'ExecHome'},\n",
      "     1: {'text': '01', 'type': 'Execs'},\n",
      "     2: {'text': '02', 'type': 'Execs'},\n",
      "     3: {'text': '03', 'type': 'Execs'},\n",
      "     4: {'text': '04', 'type': 'Execs'}},\n",
      " 1: {0: {'text': '10', 'type': 'GalleryHome'},\n",
      "     1: {'src': 'arrow.png', 'text': '11', 'type': 'Gallery'},\n",
      "     2: {'src': 'arrow.svg', 'text': '12', 'type': 'Gallery'},\n",
      "     3: {'src': 'background.jpg', 'text': '13', 'type': 'Gallery'}},\n",
      " 2: {0: {'text': '20', 'type': 'InfoHome'}},\n",
      " 3: {0: {'text': '30', 'type': 'OtherHome'}}}\n"
     ]
    }
   ],
   "source": [
    "a = {}\n",
    "b = ['Execs', 'Gallery','Info','Other']\n",
    "print (os.getcwd())\n",
    "\n",
    "os.chdir('../photos/')\n",
    "\n",
    "picTypes = ['svg','png','jpg','jpeg']\n",
    "pics = [x for x in os.listdir() if any (x.split('.')[1] == y for y in picTypes)]\n",
    "print (pics)\n",
    "c = [4, len(pics), 0,0]\n",
    "\n",
    "for i in range (0,4):\n",
    "    a[i] = {}\n",
    "    for j in range (c[i]):\n",
    "        a[i][j+1] = {'text':str(i) + str(j+1), 'type':b[i]}\n",
    "        if (i == 1):\n",
    "            a[i][j+1]['src'] = pics[j]\n",
    "a[0][0] = {'text':'00', 'type':'ExecHome'}\n",
    "a[1][0] = {'text':'10', 'type':'GalleryHome'}\n",
    "a[2][0] = {'text':'20', 'type':'InfoHome'}\n",
    "a[3][0] = {'text':'30', 'type':'OtherHome'}\n",
    "pprint.pprint(a)\n",
    "os.chdir('../static/')\n",
    "with open('data.json', 'w') as file:\n",
    "    json.dump(a, file)\n",
    "    pass"
   ]
  },
  {
   "cell_type": "code",
   "execution_count": 8,
   "metadata": {},
   "outputs": [
    {
     "data": {
      "text/plain": [
       "['arrow.png', 'arrow.svg', 'background.jpg']"
      ]
     },
     "execution_count": 8,
     "metadata": {},
     "output_type": "execute_result"
    }
   ],
   "source": []
  },
  {
   "cell_type": "code",
   "execution_count": 7,
   "metadata": {},
   "outputs": [
    {
     "data": {
      "text/plain": [
       "'C:\\\\Users\\\\Daniel\\\\Documents\\\\GitHub\\\\proto-Driving-Tomorrow\\\\proto\\\\client\\\\src\\\\photos'"
      ]
     },
     "execution_count": 7,
     "metadata": {},
     "output_type": "execute_result"
    }
   ],
   "source": [
    "os.getcwd()"
   ]
  },
  {
   "cell_type": "code",
   "execution_count": null,
   "metadata": {},
   "outputs": [],
   "source": []
  }
 ],
 "metadata": {
  "kernelspec": {
   "display_name": "Python 3",
   "language": "python",
   "name": "python3"
  },
  "language_info": {
   "codemirror_mode": {
    "name": "ipython",
    "version": 3
   },
   "file_extension": ".py",
   "mimetype": "text/x-python",
   "name": "python",
   "nbconvert_exporter": "python",
   "pygments_lexer": "ipython3",
   "version": "3.6.5"
  }
 },
 "nbformat": 4,
 "nbformat_minor": 2
}
