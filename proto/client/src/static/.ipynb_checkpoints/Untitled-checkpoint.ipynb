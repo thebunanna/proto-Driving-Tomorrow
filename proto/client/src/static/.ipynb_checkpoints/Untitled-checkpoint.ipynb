{
 "cells": [
  {
   "cell_type": "code",
   "execution_count": 1,
   "metadata": {},
   "outputs": [],
   "source": [
    "import json"
   ]
  },
  {
   "cell_type": "code",
   "execution_count": null,
   "metadata": {},
   "outputs": [],
   "source": [
    "a = {}\n",
    "b = ['Execs', 'Gallery','Info','Other']\n",
    "c = [4, 10, 1, 1]\n",
    "for i in range (4):\n",
    "    a[i] = {}\n",
    "    for j in range (c[i]):\n",
    "        a[i][j] = {'text':str(i) + str(j), 'type':b[i]}\n",
    "with open('data.json', 'w') as file:\n",
    "    json.dump(a, file)"
   ]
  }
 ],
 "metadata": {
  "kernelspec": {
   "display_name": "Python 3",
   "language": "python",
   "name": "python3"
  },
  "language_info": {
   "codemirror_mode": {
    "name": "ipython",
    "version": 3
   },
   "file_extension": ".py",
   "mimetype": "text/x-python",
   "name": "python",
   "nbconvert_exporter": "python",
   "pygments_lexer": "ipython3",
   "version": "3.6.5"
  }
 },
 "nbformat": 4,
 "nbformat_minor": 2
}
